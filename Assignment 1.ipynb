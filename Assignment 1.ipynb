{
 "cells": [
  {
   "cell_type": "code",
   "execution_count": 1,
   "id": "6f8466f8",
   "metadata": {},
   "outputs": [
    {
     "name": "stdout",
     "output_type": "stream",
     "text": [
      "['pwskills', ['payal', 1, 2, 3], 23.45, 'skills']\n"
     ]
    }
   ],
   "source": [
    "l = [\"pwskills\",[\"payal\",1,2,3], 23.45, (\"skills\")]  # Q1\n",
    "print(l)"
   ]
  },
  {
   "cell_type": "code",
   "execution_count": 7,
   "id": "111948fd",
   "metadata": {},
   "outputs": [],
   "source": [
    "# Q2 (1) String\n",
    "#  (2)List\n",
    "# (3) List\n",
    "# (4) Float"
   ]
  },
  {
   "cell_type": "code",
   "execution_count": 13,
   "id": "17ffb1d3",
   "metadata": {},
   "outputs": [],
   "source": [
    "# Q3  (1) / -> gives quotient value\n",
    "# (2) %  -> gives the remainder value\n",
    "# (3) //  -> Floor division. Divides and returns the integer value of the quotient. It dumps the digits after the decimal.\n",
    "# (4) **  -> Performs exponentiation on the values on either side. Then assigns it to the expression on the left."
   ]
  },
  {
   "cell_type": "code",
   "execution_count": 15,
   "id": "fec79005",
   "metadata": {},
   "outputs": [
    {
     "name": "stdout",
     "output_type": "stream",
     "text": [
      "<class 'int'>\n",
      "<class 'int'>\n",
      "<class 'int'>\n",
      "<class 'int'>\n",
      "<class 'int'>\n",
      "<class 'str'>\n",
      "<class 'str'>\n",
      "<class 'float'>\n"
     ]
    }
   ],
   "source": [
    "m = [1,2,3,4,5,\"pwskills\",\"learning\",78.90]  #Q4\n",
    "for i in m:\n",
    "    print(type(i))"
   ]
  },
  {
   "cell_type": "code",
   "execution_count": 1,
   "id": "bd1637ad",
   "metadata": {},
   "outputs": [
    {
     "name": "stdout",
     "output_type": "stream",
     "text": [
      "not divisible\n",
      "not divisible\n",
      "divisible\n",
      "not divisible\n",
      "not divisible\n",
      "divisible\n",
      "not divisible\n",
      "not divisible\n",
      "divisible\n",
      "not divisible\n",
      "not divisible\n",
      "divisible\n",
      "not divisible\n",
      "not divisible\n",
      "divisible\n",
      "not divisible\n",
      "not divisible\n",
      "divisible\n",
      "not divisible\n",
      "not divisible\n",
      "divisible\n",
      "not divisible\n",
      "not divisible\n",
      "divisible\n",
      "not divisible\n"
     ]
    }
   ],
   "source": [
    "a = [1,2,3,4,5,6,7,8,9,10,11,12,13,14,15,16,17,18,19,20,21,22,23,24,25]\n",
    "for i in a:\n",
    "    if (i)%3 == 0:\n",
    "        print(\"divisible\")\n",
    "    else:\n",
    "        print(\"not divisible\")"
   ]
  },
  {
   "cell_type": "code",
   "execution_count": 2,
   "id": "040954bd",
   "metadata": {},
   "outputs": [
    {
     "name": "stdout",
     "output_type": "stream",
     "text": [
      "2\n"
     ]
    }
   ],
   "source": [
    "#Q7 Mutable-> This means that you can alter its internal data or attributes without creating a new object. \n",
    "#Examples of mutable objects in Python include lists, dictionaries, and sets\n",
    "# Immutable->Immutable datatypes are objects that cannot be modified or altered after they have been created \n",
    "#(for example, by adding new elements, removing elements, or replacing elements)\n",
    "# eg:\n",
    "l1 = [\"raghu\",1,45,\"pwskills\"]\n",
    "l1[1] = 2\n",
    "print(l1[1])"
   ]
  },
  {
   "cell_type": "code",
   "execution_count": 3,
   "id": "95aa2c14",
   "metadata": {},
   "outputs": [
    {
     "ename": "TypeError",
     "evalue": "'str' object does not support item assignment",
     "output_type": "error",
     "traceback": [
      "\u001b[1;31m---------------------------------------------------------------------------\u001b[0m",
      "\u001b[1;31mTypeError\u001b[0m                                 Traceback (most recent call last)",
      "\u001b[1;32m~\\AppData\\Local\\Temp\\ipykernel_2860\\3883057737.py\u001b[0m in \u001b[0;36m<module>\u001b[1;34m\u001b[0m\n\u001b[0;32m      1\u001b[0m \u001b[0ma\u001b[0m \u001b[1;33m=\u001b[0m \u001b[1;34m\"Abhishek\"\u001b[0m\u001b[1;33m\u001b[0m\u001b[1;33m\u001b[0m\u001b[0m\n\u001b[1;32m----> 2\u001b[1;33m \u001b[0ma\u001b[0m\u001b[1;33m[\u001b[0m\u001b[1;36m1\u001b[0m\u001b[1;33m]\u001b[0m \u001b[1;33m=\u001b[0m \u001b[1;34m\"s\"\u001b[0m\u001b[1;33m\u001b[0m\u001b[1;33m\u001b[0m\u001b[0m\n\u001b[0m\u001b[0;32m      3\u001b[0m \u001b[0mprint\u001b[0m\u001b[1;33m(\u001b[0m\u001b[0ma\u001b[0m\u001b[1;33m[\u001b[0m\u001b[1;36m1\u001b[0m\u001b[1;33m]\u001b[0m\u001b[1;33m)\u001b[0m\u001b[1;33m\u001b[0m\u001b[1;33m\u001b[0m\u001b[0m\n",
      "\u001b[1;31mTypeError\u001b[0m: 'str' object does not support item assignment"
     ]
    }
   ],
   "source": [
    "a = \"Abhishek\"\n",
    "a[1] = \"s\"\n",
    "print(a[1])"
   ]
  },
  {
   "cell_type": "code",
   "execution_count": null,
   "id": "cbc6bec5",
   "metadata": {},
   "outputs": [],
   "source": []
  }
 ],
 "metadata": {
  "kernelspec": {
   "display_name": "Python 3 (ipykernel)",
   "language": "python",
   "name": "python3"
  },
  "language_info": {
   "codemirror_mode": {
    "name": "ipython",
    "version": 3
   },
   "file_extension": ".py",
   "mimetype": "text/x-python",
   "name": "python",
   "nbconvert_exporter": "python",
   "pygments_lexer": "ipython3",
   "version": "3.9.13"
  }
 },
 "nbformat": 4,
 "nbformat_minor": 5
}
